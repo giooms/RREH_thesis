{
 "cells": [
  {
   "cell_type": "markdown",
   "id": "2438d987",
   "metadata": {},
   "source": [
    "# First Analysis\n",
    "## Only Offshore wind, no production in Belgium"
   ]
  },
  {
   "cell_type": "code",
   "execution_count": 1,
   "id": "6a0a6580",
   "metadata": {},
   "outputs": [
    {
     "name": "stdout",
     "output_type": "stream",
     "text": [
      "No such file as data/pv_capacity_factors_sahara.csv\n"
     ]
    },
    {
     "ename": "NameError",
     "evalue": "name 'exit' is not defined",
     "output_type": "error",
     "traceback": [
      "\u001b[1;31m---------------------------------------------------------------------------\u001b[0m",
      "\u001b[1;31mNameError\u001b[0m                                 Traceback (most recent call last)",
      "Cell \u001b[1;32mIn[1], line 7\u001b[0m\n\u001b[0;32m      3\u001b[0m timehorizon \u001b[38;5;241m=\u001b[39m \u001b[38;5;241m8760\u001b[39m\n\u001b[0;32m      6\u001b[0m gboml_model \u001b[38;5;241m=\u001b[39m GbomlGraph(timehorizon\u001b[38;5;241m=\u001b[39mtimehorizon)\n\u001b[1;32m----> 7\u001b[0m nodes, edges, param \u001b[38;5;241m=\u001b[39m \u001b[43mgboml_model\u001b[49m\u001b[38;5;241;43m.\u001b[39;49m\u001b[43mimport_all_nodes_and_edges\u001b[49m\u001b[43m(\u001b[49m\u001b[38;5;124;43m\"\u001b[39;49m\u001b[38;5;124;43m../../models/base/greenland_simple.gboml\u001b[39;49m\u001b[38;5;124;43m\"\u001b[39;49m\u001b[43m)\u001b[49m\n\u001b[0;32m      8\u001b[0m gboml_model\u001b[38;5;241m.\u001b[39madd_global_parameters(param)\n\u001b[0;32m      9\u001b[0m gboml_model\u001b[38;5;241m.\u001b[39madd_nodes_in_model(\u001b[38;5;241m*\u001b[39mnodes)\n",
      "File \u001b[1;32m~\\anaconda3\\lib\\site-packages\\gboml\\gboml_graph.py:561\u001b[0m, in \u001b[0;36mGbomlGraph.import_all_nodes_and_edges\u001b[1;34m(filename, cache)\u001b[0m\n\u001b[0;32m    547\u001b[0m \u001b[38;5;124;03m\"\"\"\u001b[39;00m\n\u001b[0;32m    548\u001b[0m \u001b[38;5;124;03mstatic method importing all nodes and hyperedges contained in a file\u001b[39;00m\n\u001b[0;32m    549\u001b[0m \n\u001b[1;32m   (...)\u001b[0m\n\u001b[0;32m    558\u001b[0m \n\u001b[0;32m    559\u001b[0m \u001b[38;5;124;03m\"\"\"\u001b[39;00m\n\u001b[0;32m    560\u001b[0m old_dir, cut_filename \u001b[38;5;241m=\u001b[39m move_to_directory(filename)\n\u001b[1;32m--> 561\u001b[0m filename_graph \u001b[38;5;241m=\u001b[39m \u001b[43mparse_file\u001b[49m\u001b[43m(\u001b[49m\u001b[43mcut_filename\u001b[49m\u001b[43m,\u001b[49m\u001b[43m \u001b[49m\u001b[43mcache\u001b[49m\u001b[43m)\u001b[49m\n\u001b[0;32m    562\u001b[0m all_nodes \u001b[38;5;241m=\u001b[39m filename_graph\u001b[38;5;241m.\u001b[39mget_nodes()\n\u001b[0;32m    563\u001b[0m to_return_nodes \u001b[38;5;241m=\u001b[39m []\n",
      "File \u001b[1;32m~\\anaconda3\\lib\\site-packages\\gboml\\compiler\\gboml_parser.py:791\u001b[0m, in \u001b[0;36mparse_file\u001b[1;34m(name, cache)\u001b[0m\n\u001b[0;32m    788\u001b[0m \u001b[38;5;28;01melse\u001b[39;00m:\n\u001b[0;32m    789\u001b[0m     list_opened_files\u001b[38;5;241m.\u001b[39mappend(name)\n\u001b[1;32m--> 791\u001b[0m result \u001b[38;5;241m=\u001b[39m \u001b[43mparser\u001b[49m\u001b[38;5;241;43m.\u001b[39;49m\u001b[43mparse\u001b[49m\u001b[43m(\u001b[49m\u001b[43mdata\u001b[49m\u001b[43m,\u001b[49m\u001b[43m \u001b[49m\u001b[43mlexer\u001b[49m\u001b[38;5;241;43m=\u001b[39;49m\u001b[43mlexer\u001b[49m\u001b[38;5;241;43m.\u001b[39;49m\u001b[43mclone\u001b[49m\u001b[43m(\u001b[49m\u001b[43m)\u001b[49m\u001b[43m)\u001b[49m\n\u001b[0;32m    793\u001b[0m list_opened_files\u001b[38;5;241m.\u001b[39mpop(\u001b[38;5;241m-\u001b[39m\u001b[38;5;241m1\u001b[39m)\n\u001b[0;32m    795\u001b[0m \u001b[38;5;28;01mif\u001b[39;00m cache_activation:\n",
      "File \u001b[1;32m~\\anaconda3\\lib\\site-packages\\gboml\\compiler\\ply\\yacc.py:409\u001b[0m, in \u001b[0;36mLRParser.parse\u001b[1;34m(self, input, lexer, debug, tracking)\u001b[0m\n\u001b[0;32m    407\u001b[0m \u001b[38;5;28;01mdel\u001b[39;00m symstack[\u001b[38;5;241m-\u001b[39mplen:]\n\u001b[0;32m    408\u001b[0m \u001b[38;5;28mself\u001b[39m\u001b[38;5;241m.\u001b[39mstate \u001b[38;5;241m=\u001b[39m state\n\u001b[1;32m--> 409\u001b[0m \u001b[43mp\u001b[49m\u001b[38;5;241;43m.\u001b[39;49m\u001b[43mcallable\u001b[49m\u001b[43m(\u001b[49m\u001b[43mpslice\u001b[49m\u001b[43m)\u001b[49m\n\u001b[0;32m    410\u001b[0m \u001b[38;5;28;01mdel\u001b[39;00m statestack[\u001b[38;5;241m-\u001b[39mplen:]\n\u001b[0;32m    411\u001b[0m \u001b[38;5;28;01mif\u001b[39;00m debug:\n",
      "File \u001b[1;32m~\\anaconda3\\lib\\site-packages\\gboml\\compiler\\gboml_parser.py:186\u001b[0m, in \u001b[0;36mp_node\u001b[1;34m(p)\u001b[0m\n\u001b[0;32m    184\u001b[0m list_parameters, list_variables \u001b[38;5;241m=\u001b[39m p[\u001b[38;5;241m8\u001b[39m]\n\u001b[0;32m    185\u001b[0m old_dir, cut_filename \u001b[38;5;241m=\u001b[39m move_to_directory(filename)\n\u001b[1;32m--> 186\u001b[0m graph_filename \u001b[38;5;241m=\u001b[39m \u001b[43mparse_file\u001b[49m\u001b[43m(\u001b[49m\u001b[43mcut_filename\u001b[49m\u001b[43m,\u001b[49m\u001b[43m \u001b[49m\u001b[43mcache\u001b[49m\u001b[38;5;241;43m=\u001b[39;49m\u001b[43mcache_activation\u001b[49m\u001b[43m)\u001b[49m\n\u001b[0;32m    187\u001b[0m returned_node \u001b[38;5;241m=\u001b[39m graph_filename\u001b[38;5;241m.\u001b[39mget(imported_node_identifier)\n\u001b[0;32m    188\u001b[0m returned_node \u001b[38;5;241m=\u001b[39m deepcopy(returned_node)\n",
      "File \u001b[1;32m~\\anaconda3\\lib\\site-packages\\gboml\\compiler\\gboml_parser.py:791\u001b[0m, in \u001b[0;36mparse_file\u001b[1;34m(name, cache)\u001b[0m\n\u001b[0;32m    788\u001b[0m \u001b[38;5;28;01melse\u001b[39;00m:\n\u001b[0;32m    789\u001b[0m     list_opened_files\u001b[38;5;241m.\u001b[39mappend(name)\n\u001b[1;32m--> 791\u001b[0m result \u001b[38;5;241m=\u001b[39m \u001b[43mparser\u001b[49m\u001b[38;5;241;43m.\u001b[39;49m\u001b[43mparse\u001b[49m\u001b[43m(\u001b[49m\u001b[43mdata\u001b[49m\u001b[43m,\u001b[49m\u001b[43m \u001b[49m\u001b[43mlexer\u001b[49m\u001b[38;5;241;43m=\u001b[39;49m\u001b[43mlexer\u001b[49m\u001b[38;5;241;43m.\u001b[39;49m\u001b[43mclone\u001b[49m\u001b[43m(\u001b[49m\u001b[43m)\u001b[49m\u001b[43m)\u001b[49m\n\u001b[0;32m    793\u001b[0m list_opened_files\u001b[38;5;241m.\u001b[39mpop(\u001b[38;5;241m-\u001b[39m\u001b[38;5;241m1\u001b[39m)\n\u001b[0;32m    795\u001b[0m \u001b[38;5;28;01mif\u001b[39;00m cache_activation:\n",
      "File \u001b[1;32m~\\anaconda3\\lib\\site-packages\\gboml\\compiler\\ply\\yacc.py:409\u001b[0m, in \u001b[0;36mLRParser.parse\u001b[1;34m(self, input, lexer, debug, tracking)\u001b[0m\n\u001b[0;32m    407\u001b[0m \u001b[38;5;28;01mdel\u001b[39;00m symstack[\u001b[38;5;241m-\u001b[39mplen:]\n\u001b[0;32m    408\u001b[0m \u001b[38;5;28mself\u001b[39m\u001b[38;5;241m.\u001b[39mstate \u001b[38;5;241m=\u001b[39m state\n\u001b[1;32m--> 409\u001b[0m \u001b[43mp\u001b[49m\u001b[38;5;241;43m.\u001b[39;49m\u001b[43mcallable\u001b[49m\u001b[43m(\u001b[49m\u001b[43mpslice\u001b[49m\u001b[43m)\u001b[49m\n\u001b[0;32m    410\u001b[0m \u001b[38;5;28;01mdel\u001b[39;00m statestack[\u001b[38;5;241m-\u001b[39mplen:]\n\u001b[0;32m    411\u001b[0m \u001b[38;5;28;01mif\u001b[39;00m debug:\n",
      "File \u001b[1;32m~\\anaconda3\\lib\\site-packages\\gboml\\compiler\\gboml_parser.py:338\u001b[0m, in \u001b[0;36mp_parameter\u001b[1;34m(p)\u001b[0m\n\u001b[0;32m    334\u001b[0m \u001b[38;5;66;03m# parameter defined via an import\u001b[39;00m\n\u001b[0;32m    335\u001b[0m \u001b[38;5;28;01melse\u001b[39;00m:\n\u001b[0;32m    337\u001b[0m     filename \u001b[38;5;241m=\u001b[39m p[\u001b[38;5;241m4\u001b[39m]\n\u001b[1;32m--> 338\u001b[0m     p[\u001b[38;5;241m0\u001b[39m] \u001b[38;5;241m=\u001b[39m \u001b[43mParameter\u001b[49m\u001b[43m(\u001b[49m\u001b[43mparameter_id\u001b[49m\u001b[43m,\u001b[49m\u001b[43m \u001b[49m\u001b[43mfilename\u001b[49m\u001b[43m,\u001b[49m\u001b[43m \u001b[49m\u001b[43mline\u001b[49m\u001b[38;5;241;43m=\u001b[39;49m\u001b[43mp\u001b[49m\u001b[38;5;241;43m.\u001b[39;49m\u001b[43mlineno\u001b[49m\u001b[43m(\u001b[49m\u001b[38;5;241;43m1\u001b[39;49m\u001b[43m)\u001b[49m\u001b[43m)\u001b[49m\n",
      "File \u001b[1;32m~\\anaconda3\\lib\\site-packages\\gboml\\compiler\\classes\\parameter.py:29\u001b[0m, in \u001b[0;36mParameter.__init__\u001b[1;34m(self, name, expression, line)\u001b[0m\n\u001b[0;32m     26\u001b[0m \u001b[38;5;28;01melif\u001b[39;00m \u001b[38;5;28mtype\u001b[39m(expression) \u001b[38;5;241m==\u001b[39m \u001b[38;5;28mstr\u001b[39m:\n\u001b[0;32m     28\u001b[0m     type_para \u001b[38;5;241m=\u001b[39m \u001b[38;5;124m\"\u001b[39m\u001b[38;5;124mtable\u001b[39m\u001b[38;5;124m\"\u001b[39m\n\u001b[1;32m---> 29\u001b[0m     \u001b[38;5;28;43mself\u001b[39;49m\u001b[38;5;241;43m.\u001b[39;49m\u001b[43mget_values_from_file\u001b[49m\u001b[43m(\u001b[49m\u001b[43mexpression\u001b[49m\u001b[43m)\u001b[49m\n\u001b[0;32m     30\u001b[0m     expression \u001b[38;5;241m=\u001b[39m \u001b[38;5;28;01mNone\u001b[39;00m\n\u001b[0;32m     31\u001b[0m \u001b[38;5;28;01melse\u001b[39;00m:\n",
      "File \u001b[1;32m~\\anaconda3\\lib\\site-packages\\gboml\\compiler\\classes\\parameter.py:77\u001b[0m, in \u001b[0;36mParameter.get_values_from_file\u001b[1;34m(self, expression)\u001b[0m\n\u001b[0;32m     74\u001b[0m \u001b[38;5;28;01mif\u001b[39;00m \u001b[38;5;28mtype\u001b[39m(expression) \u001b[38;5;129;01mis\u001b[39;00m \u001b[38;5;28mstr\u001b[39m:\n\u001b[0;32m     76\u001b[0m     \u001b[38;5;28;01mif\u001b[39;00m(os\u001b[38;5;241m.\u001b[39mpath\u001b[38;5;241m.\u001b[39misfile(\u001b[38;5;124m'\u001b[39m\u001b[38;5;124m./\u001b[39m\u001b[38;5;124m'\u001b[39m\u001b[38;5;241m+\u001b[39mexpression)) \u001b[38;5;129;01mis\u001b[39;00m \u001b[38;5;28;01mFalse\u001b[39;00m:\n\u001b[1;32m---> 77\u001b[0m         \u001b[43merror_\u001b[49m\u001b[43m(\u001b[49m\u001b[38;5;124;43m\"\u001b[39;49m\u001b[38;5;124;43mNo such file as \u001b[39;49m\u001b[38;5;124;43m\"\u001b[39;49m\u001b[38;5;241;43m+\u001b[39;49m\u001b[38;5;28;43mstr\u001b[39;49m\u001b[43m(\u001b[49m\u001b[43mexpression\u001b[49m\u001b[43m)\u001b[49m\u001b[43m)\u001b[49m\n\u001b[0;32m     78\u001b[0m     f \u001b[38;5;241m=\u001b[39m \u001b[38;5;28mopen\u001b[39m(\u001b[38;5;124m'\u001b[39m\u001b[38;5;124m./\u001b[39m\u001b[38;5;124m'\u001b[39m\u001b[38;5;241m+\u001b[39mexpression, \u001b[38;5;124m\"\u001b[39m\u001b[38;5;124mr\u001b[39m\u001b[38;5;124m\"\u001b[39m, encoding\u001b[38;5;241m=\u001b[39m\u001b[38;5;124m\"\u001b[39m\u001b[38;5;124mISO-8859-1\u001b[39m\u001b[38;5;124m\"\u001b[39m)\n\u001b[0;32m     79\u001b[0m     \u001b[38;5;28;01mfor\u001b[39;00m line \u001b[38;5;129;01min\u001b[39;00m f:\n",
      "File \u001b[1;32m~\\anaconda3\\lib\\site-packages\\gboml\\compiler\\utils.py:195\u001b[0m, in \u001b[0;36merror_\u001b[1;34m(message)\u001b[0m\n\u001b[0;32m    184\u001b[0m \u001b[38;5;124;03m\"\"\"error_\u001b[39;00m\n\u001b[0;32m    185\u001b[0m \n\u001b[0;32m    186\u001b[0m \u001b[38;5;124;03m    takes as input a string message and exits process\u001b[39;00m\n\u001b[1;32m   (...)\u001b[0m\n\u001b[0;32m    191\u001b[0m \n\u001b[0;32m    192\u001b[0m \u001b[38;5;124;03m\"\"\"\u001b[39;00m\n\u001b[0;32m    193\u001b[0m \u001b[38;5;28mprint\u001b[39m(message)\n\u001b[1;32m--> 195\u001b[0m \u001b[43mexit\u001b[49m(\u001b[38;5;241m-\u001b[39m\u001b[38;5;241m1\u001b[39m)\n",
      "\u001b[1;31mNameError\u001b[0m: name 'exit' is not defined"
     ]
    }
   ],
   "source": [
    "from gboml import GbomlGraph\n",
    "\n",
    "timehorizon = 8760\n",
    "\n",
    "\n",
    "gboml_model = GbomlGraph(timehorizon=timehorizon)\n",
    "nodes, edges, param = gboml_model.import_all_nodes_and_edges(\"../../models/base/greenland_simple.gboml\")\n",
    "gboml_model.add_global_parameters(param)\n",
    "gboml_model.add_nodes_in_model(*nodes)\n",
    "gboml_model.add_hyperedges_in_model(*edges)\n",
    "gboml_model.build_model()\n",
    "solution, obj, status, solver_info, constr_info, _ = gboml_model.solve_gurobi()\n",
    "print(\"Solved\")"
   ]
  },
  {
   "cell_type": "code",
   "execution_count": 6,
   "id": "b3fb8684",
   "metadata": {},
   "outputs": [],
   "source": [
    "class MakeMeReadable:\n",
    "    def __init__(self, d):\n",
    "        self.d = d\n",
    "    \n",
    "    def __dir__(self):\n",
    "        return self.d.keys()\n",
    "    \n",
    "    def __getattr__(self, v):\n",
    "        try:\n",
    "            out = self.d[v]\n",
    "            if isinstance(out, dict):\n",
    "                return MakeMeReadable(out)\n",
    "            return out\n",
    "        except:\n",
    "            return getattr(self.d, v)\n",
    "        \n",
    "    def __str__(self):\n",
    "        return str(self.d)\n",
    "    \n",
    "    def __repr__(self):\n",
    "        return repr(self.d)"
   ]
  },
  {
   "cell_type": "code",
   "execution_count": 5,
   "id": "d09a801a",
   "metadata": {},
   "outputs": [
    {
     "name": "stdout",
     "output_type": "stream",
     "text": [
      "Json done\n"
     ]
    }
   ],
   "source": [
    "import json\n",
    "\n",
    "gathered_data = gboml_model.turn_solution_to_dictionary(solver_info, status, solution, obj, constr_info)\n",
    "print(\"Json done\")\n",
    "with open(f'Results/RREH.json', \"w\") as fp:json.dump(gathered_data, fp, indent=4)"
   ]
  },
  {
   "cell_type": "code",
   "execution_count": 9,
   "id": "422b0d50",
   "metadata": {},
   "outputs": [],
   "source": [
    "import json\n",
    "import pandas as pd\n",
    "import matplotlib.pyplot as plt\n",
    "import numpy as np"
   ]
  },
  {
   "cell_type": "code",
   "execution_count": 10,
   "id": "23df8b9b",
   "metadata": {},
   "outputs": [
    {
     "name": "stdout",
     "output_type": "stream",
     "text": [
      "The data is a dictionary\n"
     ]
    }
   ],
   "source": [
    "with open('Results/RREH.json', 'r') as f:\n",
    "    results_data = json.load(f)\n",
    "    \n",
    "if isinstance(results_data, dict):\n",
    "    print('The data is a dictionary')\n",
    "else:\n",
    "    print('The data is not a dictionary')"
   ]
  },
  {
   "cell_type": "code",
   "execution_count": 11,
   "id": "6f5d0a78",
   "metadata": {},
   "outputs": [],
   "source": [
    "results_data = MakeMeReadable(results_data)"
   ]
  },
  {
   "cell_type": "code",
   "execution_count": 16,
   "id": "01bd697d",
   "metadata": {},
   "outputs": [
    {
     "data": {
      "text/plain": [
       "[63.63136793733925]"
      ]
     },
     "execution_count": 16,
     "metadata": {},
     "output_type": "execute_result"
    }
   ],
   "source": [
    "wind_capacity = results_data.solution.elements.OFF_WIND_PLANTS_GR.variables.capacity.values\n",
    "wind_prod = results_data.solution.elements.OFF_WIND_PLANTS_GR.variables.electricity.values\n",
    "wind_capacity"
   ]
  },
  {
   "cell_type": "code",
   "execution_count": 17,
   "id": "566f65b4",
   "metadata": {},
   "outputs": [
    {
     "data": {
      "text/plain": [
       "34.658763293003474"
      ]
     },
     "execution_count": 17,
     "metadata": {},
     "output_type": "execute_result"
    }
   ],
   "source": [
    "np.mean(wind_prod)"
   ]
  },
  {
   "cell_type": "code",
   "execution_count": null,
   "id": "357cf437",
   "metadata": {},
   "outputs": [],
   "source": [
    "cost = results_data.solution.elements."
   ]
  }
 ],
 "metadata": {
  "kernelspec": {
   "display_name": "Python 3 (ipykernel)",
   "language": "python",
   "name": "python3"
  },
  "language_info": {
   "codemirror_mode": {
    "name": "ipython",
    "version": 3
   },
   "file_extension": ".py",
   "mimetype": "text/x-python",
   "name": "python",
   "nbconvert_exporter": "python",
   "pygments_lexer": "ipython3",
   "version": "3.10.9"
  }
 },
 "nbformat": 4,
 "nbformat_minor": 5
}
