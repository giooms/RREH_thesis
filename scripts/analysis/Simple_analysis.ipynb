{
 "cells": [
  {
   "cell_type": "markdown",
   "id": "2438d987",
   "metadata": {},
   "source": [
    "# First Analysis\n",
    "## Only Offshore wind, no production in Belgium"
   ]
  },
  {
   "cell_type": "code",
   "execution_count": 22,
   "id": "6a0a6580",
   "metadata": {},
   "outputs": [
    {
     "name": "stdout",
     "output_type": "stream",
     "text": [
      "Check variables of node LIQUEFIED_METHANE_CARRIERS_GR : --- 0.0 seconds ---\n",
      "Check variables of node LIQUEFIED_METHANE_STORAGE_HUB_GR : --- 0.0 seconds ---\n",
      "Check variables of node METHANE_LIQUEFACTION_PLANTS_GR : --- 0.0 seconds ---\n",
      "Check variables of node METHANATION_PLANTS_GR : --- 0.0 seconds ---\n",
      "Check variables of node WATER_STORAGE_GR : --- 0.0 seconds ---\n",
      "Check variables of node CARBON_DIOXIDE_STORAGE_GR : --- 0.0 seconds ---\n",
      "Check variables of node HYDROGEN_STORAGE_GR : --- 0.0 seconds ---\n",
      "Check variables of node DIRECT_AIR_CAPTURE_PLANTS_GR : --- 0.0 seconds ---\n",
      "Check variables of node DESALINATION_PLANTS_GR : --- 0.0 seconds ---\n",
      "Check variables of node ELECTROLYSIS_PLANTS_GR : --- 0.0 seconds ---\n",
      "Check variables of node HVDC_GR : --- 0.0 seconds ---\n",
      "Check variables of node BATTERY_STORAGE_GR : --- 0.0 seconds ---\n",
      "Check variables of node ON_WIND_PLANTS_GR : --- 0.0 seconds ---\n",
      "Check variables of node OFF_WIND_PLANTS_GR : --- 0.0 seconds ---\n",
      "Check variables of node CO2_EXPORT : --- 0.0 seconds ---\n",
      "Check variables of node CARBON_DIOXIDE_STORAGE_BE : --- 0.0 seconds ---\n",
      "Check variables of node CARRIER_CO2_GR : --- 0.0 seconds ---\n",
      "Check variables of node PIPE_CO2_GR : --- 0.0 seconds ---\n",
      "Check variables of node PROD_CO2 : --- 0.0 seconds ---\n",
      "Check variables of node PCCC : --- 0.0 seconds ---\n",
      "Check variables of node ENERGY_DEMAND_BE : --- 0.0 seconds ---\n",
      "Check variables of node LIQUEFIED_METHANE_STORAGE_DESTINATION : --- 0.0 seconds ---\n",
      "Check variables of node LIQUEFIED_METHANE_REGASIFICATION : --- 0.0 seconds ---\n",
      "Check hyperlink COASTAL_CARBON_DIOXIDE_BALANCE_GR : --- 0.0 seconds ---\n",
      "Check hyperlink COASTAL_LIQUEFIED_METHANE_BALANCE_GR : --- 0.0 seconds ---\n",
      "Check hyperlink COASTAL_METHANE_BALANCE_GR : --- 0.0 seconds ---\n",
      "Check hyperlink COASTAL_WATER_BALANCE_GR : --- 0.0 seconds ---\n",
      "Check hyperlink COASTAL_HYDROGEN_BALANCE_GR : --- 0.0 seconds ---\n",
      "Check hyperlink COASTAL_POWER_BALANCE_GR : --- 0.0 seconds ---\n",
      "Check hyperlink INLAND_POWER_BALANCE_GR : --- 0.0 seconds ---\n",
      "Check hyperlink DESTINATION_LIQUEFIED_METHANE_BALANCE : --- 0.0 seconds ---\n",
      "Warning : Hyperedge constraint using variables from a single node at line 140\n",
      "Check hyperlink DESTINATION_METHANE_BALANCE : --- 0.0 seconds ---\n",
      "Check hyperlink APPLY_PCCC_PROD_C02 : --- 0.0 seconds ---\n",
      "Check hyperlink PIPE_CO2_CONNECTION : --- 0.0 seconds ---\n",
      "\n",
      "Reading Gurobi options from file gurobi.opt\n",
      "Options file not found\n",
      "\n",
      "Gurobi Optimizer version 10.0.3 build v10.0.3rc0 (win64)\n",
      "\n",
      "CPU model: AMD Ryzen 7 7735HS with Radeon Graphics, instruction set [SSE2|AVX|AVX2]\n",
      "Thread count: 8 physical cores, 16 logical processors, using up to 16 threads\n",
      "\n",
      "Optimize a model with 1392860 rows, 534387 columns and 2773044 nonzeros\n",
      "Model fingerprint: 0x46c9ca26\n",
      "Coefficient statistics:\n",
      "  Matrix range     [7e-05, 5e+01]\n",
      "  Objective range  [8e-05, 2e+03]\n",
      "  Bounds range     [0e+00, 0e+00]\n",
      "  RHS range        [4e+00, 1e+03]\n",
      "Presolve removed 1043846 rows and 332368 columns\n",
      "Presolve time: 2.28s\n",
      "Presolved: 349014 rows, 202019 columns, 1149376 nonzeros\n",
      "\n",
      "Concurrent LP optimizer: primal simplex, dual simplex, and barrier\n",
      "Showing barrier log only...\n",
      "\n",
      "Ordering time: 0.14s\n",
      "\n",
      "Barrier statistics:\n",
      " Dense cols : 22\n",
      " AA' NZ     : 1.440e+06\n",
      " Factor NZ  : 6.021e+06 (roughly 270 MB of memory)\n",
      " Factor Ops : 1.247e+08 (less than 1 second per iteration)\n",
      " Threads    : 6\n",
      "\n",
      "                  Objective                Residual\n",
      "Iter       Primal          Dual         Primal    Dual     Compl     Time\n",
      "   0   8.71349251e+06 -9.10330859e+05  1.81e+04 2.56e-02  1.06e+05     3s\n",
      "   1   1.12783789e+07 -3.40819125e+07  1.23e+04 8.59e+02  4.04e+04     4s\n",
      "   2   7.81017190e+06 -4.37664960e+07  5.62e+03 2.72e+02  1.50e+04     4s\n",
      "   3   7.66987651e+06 -4.03731158e+07  2.52e+03 1.15e+02  6.35e+03     4s\n",
      "   4   7.00329728e+06 -3.76138468e+07  1.35e+03 4.54e+01  3.12e+03     4s\n",
      "   5   5.86871582e+06 -3.39255530e+07  6.20e+02 1.86e+01  1.52e+03     4s\n",
      "   6   3.76193301e+06 -2.98154594e+07  1.84e+02 8.93e+00  7.43e+02     5s\n",
      "   7   1.58861675e+06 -1.11466461e+07  1.74e-01 7.61e-01  9.67e+01     5s\n",
      "   8   8.49731399e+05 -4.48367646e+05  5.59e-03 3.66e-02  6.14e+00     5s\n",
      "   9   3.79947135e+05 -4.10953506e+04  1.15e-03 1.70e-03  1.14e+00     5s\n",
      "  10   1.75325478e+05  2.95481711e+03  3.94e-04 7.08e-06  3.89e-01     5s\n",
      "  11   7.72133049e+04  1.36785842e+04  1.38e-04 1.80e-06  1.42e-01     6s\n",
      "  12   6.02599346e+04  1.96861612e+04  8.90e-05 8.24e-07  9.00e-02     6s\n",
      "  13   4.60468546e+04  2.54958042e+04  4.43e-05 3.56e-07  4.55e-02     6s\n",
      "  14   3.87062287e+04  2.80332839e+04  2.05e-05 1.91e-07  2.37e-02     6s\n",
      "  15   3.67475738e+04  2.83372173e+04  1.46e-05 1.75e-07  1.87e-02     7s\n",
      "  16   3.55210554e+04  2.92380924e+04  1.11e-05 1.27e-07  1.40e-02     7s\n",
      "  17   3.52943566e+04  3.02430966e+04  1.04e-05 7.05e-08  1.12e-02     7s\n",
      "  18   3.39352241e+04  3.08059258e+04  6.37e-06 4.12e-08  6.94e-03     8s\n",
      "  19   3.32890876e+04  3.11664566e+04  4.47e-06 2.44e-08  4.70e-03     8s\n",
      "  20   3.29938167e+04  3.13063098e+04  3.60e-06 1.86e-08  3.74e-03     9s\n",
      "  21   3.28292323e+04  3.13555059e+04  3.06e-06 1.67e-08  3.27e-03     9s\n",
      "  22   3.25771442e+04  3.14469431e+04  2.31e-06 1.30e-08  2.50e-03     9s\n",
      "  23   3.24796443e+04  3.15411026e+04  2.01e-06 9.51e-09  2.08e-03    10s\n",
      "  24   3.23120990e+04  3.16074563e+04  1.49e-06 6.98e-09  1.56e-03    10s\n",
      "  25   3.21807394e+04  3.16579989e+04  1.08e-06 5.12e-09  1.16e-03    11s\n",
      "  26   3.21140078e+04  3.17023634e+04  8.79e-07 3.52e-09  9.11e-04    11s\n",
      "  27   3.20965737e+04  3.17162304e+04  8.26e-07 3.05e-09  8.42e-04    12s\n",
      "  28   3.20368907e+04  3.17481073e+04  6.36e-07 1.96e-09  6.39e-04    12s\n",
      "  29   3.19974576e+04  3.17773527e+04  5.14e-07 9.76e-10  4.86e-04    13s\n",
      "  30   3.19583416e+04  3.17816419e+04  3.96e-07 8.49e-10  3.90e-04    13s\n",
      "  31   3.19346331e+04  3.17971571e+04  3.24e-07 3.85e-10  3.03e-04    13s\n",
      "  32   3.19040679e+04  3.18091334e+04  2.20e-07 5.84e-11  2.09e-04    14s\n",
      "  33   3.18878196e+04  3.18191430e+04  1.67e-07 2.60e-10  1.51e-04    14s\n",
      "  34   3.18742354e+04  3.18235605e+04  1.21e-07 5.51e-10  1.11e-04    15s\n",
      "  35   3.18575750e+04  3.18277278e+04  6.45e-08 8.43e-10  6.54e-05    15s\n",
      "  36   3.18520666e+04  3.18304149e+04  4.73e-08 1.05e-09  4.74e-05    16s\n",
      "  37   3.18464081e+04  3.18323583e+04  2.89e-08 1.22e-09  3.07e-05    16s\n",
      "  38   3.18447867e+04  3.18331878e+04  2.35e-08 1.28e-09  2.53e-05    17s\n",
      "  39   3.18436067e+04  3.18337309e+04  1.96e-08 1.33e-09  2.15e-05    17s\n",
      "  40   3.18417255e+04  3.18342109e+04  1.33e-08 1.36e-09  1.63e-05    17s\n",
      "  41   3.18405743e+04  3.18348827e+04  9.68e-09 1.41e-09  1.23e-05    18s\n",
      "  42   3.18391521e+04  3.18356503e+04  5.37e-09 1.29e-09  7.62e-06    18s\n",
      "  43   3.18386524e+04  3.18362721e+04  3.84e-09 9.88e-10  5.20e-06    19s\n",
      "  44   3.18379342e+04  3.18369193e+04  1.57e-09 5.43e-10  2.22e-06    19s\n",
      "  45   3.18376538e+04  3.18370935e+04  6.10e-10 3.71e-10  1.23e-06    20s\n",
      "  46   3.18375239e+04  3.18372238e+04  2.03e-10 2.41e-10  6.56e-07    20s\n",
      "  47   3.18374885e+04  3.18373718e+04  6.12e-11 9.61e-11  2.55e-07    20s\n",
      "  48   3.18374828e+04  3.18374594e+04  2.69e-10 2.73e-11  5.13e-08    20s\n",
      "  49   3.18374779e+04  3.18374708e+04  1.49e-10 5.16e-12  1.57e-08    21s\n",
      "  50   3.18374792e+04  3.18374735e+04  2.96e-10 3.38e-12  1.24e-08    21s\n",
      "  51   3.18374787e+04  3.18374745e+04  8.84e-09 2.74e-11  9.31e-09    21s\n",
      "  52   3.18374749e+04  3.18374744e+04  2.55e-08 6.95e-12  1.06e-09    21s\n",
      "  53   3.18374747e+04  3.18374747e+04  3.77e-08 2.61e-11  8.15e-11    21s\n",
      "\n",
      "Barrier solved model in 53 iterations and 21.43 seconds (14.34 work units)\n",
      "Optimal objective 3.18374747e+04\n",
      "\n",
      "Crossover log...\n",
      "\n",
      "  114658 DPushes remaining with DInf 1.8987928e-04                22s\n",
      "   22856 DPushes remaining with DInf 1.8987928e-04                25s\n",
      "   20388 DPushes remaining with DInf 1.8987928e-04                30s\n",
      "   18593 DPushes remaining with DInf 1.8987928e-04                35s\n",
      "   17357 DPushes remaining with DInf 1.8987928e-04                40s\n",
      "   16530 DPushes remaining with DInf 1.8987928e-04                47s\n",
      "   15904 DPushes remaining with DInf 1.8987928e-04                53s\n",
      "   15591 DPushes remaining with DInf 1.8987928e-04                55s\n",
      "   14965 DPushes remaining with DInf 1.8987928e-04                61s\n"
     ]
    },
    {
     "name": "stdout",
     "output_type": "stream",
     "text": [
      "   14026 DPushes remaining with DInf 1.8987928e-04                65s\n",
      "   13400 DPushes remaining with DInf 1.8987928e-04                71s\n",
      "   12774 DPushes remaining with DInf 1.8987928e-04                77s\n",
      "   12461 DPushes remaining with DInf 1.8987928e-04                80s\n",
      "   11835 DPushes remaining with DInf 1.8987928e-04                87s\n",
      "   11209 DPushes remaining with DInf 1.8987928e-04                93s\n",
      "   10896 DPushes remaining with DInf 1.8987928e-04                96s\n",
      "   10270 DPushes remaining with DInf 1.8987928e-04               102s\n",
      "    9957 DPushes remaining with DInf 1.8987928e-04               106s\n",
      "    9331 DPushes remaining with DInf 1.8987928e-04               113s\n",
      "    9018 DPushes remaining with DInf 1.8987928e-04               116s\n",
      "       0 DPushes remaining with DInf 1.8987928e-04               119s\n",
      "\n",
      "   26236 PPushes remaining with PInf 0.0000000e+00               119s\n",
      "   19397 PPushes remaining with PInf 0.0000000e+00               125s\n",
      "    3823 PPushes remaining with PInf 0.0000000e+00               130s\n",
      "    2884 PPushes remaining with PInf 0.0000000e+00               136s\n",
      "       0 PPushes remaining with PInf 0.0000000e+00               139s\n",
      "\n",
      "  Push phase complete: Pinf 0.0000000e+00, Dinf 7.7231919e+01    139s\n",
      "\n",
      "Iteration    Objective       Primal Inf.    Dual Inf.      Time\n",
      "   70806    3.1837475e+04   0.000000e+00   7.723192e+01    139s\n",
      "   71071    3.1837475e+04   0.000000e+00   0.000000e+00    141s\n",
      "\n",
      "Solved with barrier\n",
      "   71071    3.1837475e+04   0.000000e+00   0.000000e+00    142s\n",
      "\n",
      "Solved in 71071 iterations and 142.46 seconds (313.36 work units)\n",
      "Optimal objective  3.183747469e+04\n",
      "Solved\n"
     ]
    }
   ],
   "source": [
    "from gboml import GbomlGraph\n",
    "\n",
    "timehorizon = 8760\n",
    "\n",
    "\n",
    "gboml_model = GbomlGraph(timehorizon=timehorizon)\n",
    "nodes, edges, param = gboml_model.import_all_nodes_and_edges(\"../../models/base/greenland_simple.gboml\")\n",
    "gboml_model.add_global_parameters(param)\n",
    "gboml_model.add_nodes_in_model(*nodes)\n",
    "gboml_model.add_hyperedges_in_model(*edges)\n",
    "gboml_model.build_model()\n",
    "solution, obj, status, solver_info, constr_info, _ = gboml_model.solve_gurobi()\n",
    "print(\"Solved\")"
   ]
  },
  {
   "cell_type": "code",
   "execution_count": 23,
   "id": "d09a801a",
   "metadata": {},
   "outputs": [
    {
     "name": "stdout",
     "output_type": "stream",
     "text": [
      "Json done\n"
     ]
    }
   ],
   "source": [
    "import json\n",
    "\n",
    "gathered_data = gboml_model.turn_solution_to_dictionary(solver_info, status, solution, obj, constr_info)\n",
    "print(\"Json done\")\n",
    "with open(f'../../models/base/results/RREH.json', \"w\") as fp:json.dump(gathered_data, fp, indent=4)"
   ]
  },
  {
   "cell_type": "code",
   "execution_count": 24,
   "id": "422b0d50",
   "metadata": {},
   "outputs": [],
   "source": [
    "import json\n",
    "import pandas as pd\n",
    "import matplotlib.pyplot as plt\n",
    "import numpy as np"
   ]
  },
  {
   "cell_type": "code",
   "execution_count": 25,
   "id": "b3fb8684",
   "metadata": {},
   "outputs": [],
   "source": [
    "class MakeMeReadable:\n",
    "    def __init__(self, d):\n",
    "        self.d = d\n",
    "    \n",
    "    def __dir__(self):\n",
    "        return self.d.keys()\n",
    "    \n",
    "    def __getattr__(self, v):\n",
    "        try:\n",
    "            out = self.d[v]\n",
    "            if isinstance(out, dict):\n",
    "                return MakeMeReadable(out)\n",
    "            return out\n",
    "        except:\n",
    "            return getattr(self.d, v)\n",
    "        \n",
    "    def __str__(self):\n",
    "        return str(self.d)\n",
    "    \n",
    "    def __repr__(self):\n",
    "        return repr(self.d)"
   ]
  },
  {
   "cell_type": "code",
   "execution_count": 26,
   "id": "23df8b9b",
   "metadata": {},
   "outputs": [
    {
     "name": "stdout",
     "output_type": "stream",
     "text": [
      "The data is a dictionary\n"
     ]
    }
   ],
   "source": [
    "dico = {}\n",
    "with open('../../models/base/results/RREH.json', 'r') as f:\n",
    "    dico = json.load(f)\n",
    "            \n",
    "d = MakeMeReadable(dico)\n",
    "    \n",
    "if isinstance(dico, dict):\n",
    "    print('The data is a dictionary')\n",
    "else:\n",
    "    print('The data is not a dictionary')"
   ]
  },
  {
   "cell_type": "code",
   "execution_count": 27,
   "id": "01bd697d",
   "metadata": {},
   "outputs": [
    {
     "data": {
      "text/plain": [
       "[63.72165113369946]"
      ]
     },
     "execution_count": 27,
     "metadata": {},
     "output_type": "execute_result"
    }
   ],
   "source": [
    "wind_capacity = d.solution.elements.OFF_WIND_PLANTS_GR.variables.capacity.values\n",
    "wind_capacity"
   ]
  },
  {
   "cell_type": "code",
   "execution_count": 28,
   "id": "566f65b4",
   "metadata": {},
   "outputs": [
    {
     "data": {
      "text/plain": [
       "34.69348502222155"
      ]
     },
     "execution_count": 28,
     "metadata": {},
     "output_type": "execute_result"
    }
   ],
   "source": [
    "np.mean(wind_prod)"
   ]
  },
  {
   "cell_type": "code",
   "execution_count": 29,
   "id": "8e09a37e",
   "metadata": {},
   "outputs": [],
   "source": [
    "def cost_rreh(ls:list):\n",
    "    if len(ls) == 0:\n",
    "        return 0.0\n",
    "\n",
    "    cost = 0\n",
    "\n",
    "    for ele in ls:\n",
    "        # print(f\"{ele = }\")\n",
    "        # print(dico[\"solution\"][\"elements\"][ele][\"objectives\"])\n",
    "        try:\n",
    "            cost += np.sum(dico[\"solution\"][\"elements\"][ele][\"objectives\"][\"unnamed\"])\n",
    "        except:\n",
    "            for e in dico[\"solution\"][\"elements\"][ele][\"objectives\"][\"named\"].values():\n",
    "                # print(f\"{e = }\")\n",
    "                cost += e\n",
    "        # print(f\"{cost = }\")\n",
    "    \n",
    "    return cost"
   ]
  },
  {
   "cell_type": "code",
   "execution_count": 30,
   "id": "e70bc845",
   "metadata": {},
   "outputs": [
    {
     "name": "stdout",
     "output_type": "stream",
     "text": [
      "['LIQUEFIED_METHANE_CARRIERS_GR', 'LIQUEFIED_METHANE_STORAGE_HUB_GR', 'METHANE_LIQUEFACTION_PLANTS_GR', 'METHANATION_PLANTS_GR', 'WATER_STORAGE_GR', 'CARBON_DIOXIDE_STORAGE_GR', 'HYDROGEN_STORAGE_GR', 'DIRECT_AIR_CAPTURE_PLANTS_GR', 'DESALINATION_PLANTS_GR', 'ELECTROLYSIS_PLANTS_GR', 'HVDC_GR', 'BATTERY_STORAGE_GR', 'ON_WIND_PLANTS_GR', 'OFF_WIND_PLANTS_GR', 'CO2_EXPORT', 'CARBON_DIOXIDE_STORAGE_BE', 'CARRIER_CO2_GR', 'PIPE_CO2_GR', 'PROD_CO2', 'PCCC', 'ENERGY_DEMAND_BE', 'LIQUEFIED_METHANE_STORAGE_DESTINATION', 'LIQUEFIED_METHANE_REGASIFICATION']\n"
     ]
    }
   ],
   "source": [
    "ls_nodes = list(d.model.nodes.keys())\n",
    "\n",
    "print(ls_nodes)"
   ]
  },
  {
   "cell_type": "code",
   "execution_count": 31,
   "id": "de8cf161",
   "metadata": {},
   "outputs": [
    {
     "name": "stdout",
     "output_type": "stream",
     "text": [
      "GR cost_GR = 31106.522418539564\n",
      "BE cost_BE = 730.9522665262955\n",
      "obj_cost = 31837.474685065354\n",
      "tot_cost = 31837.47468506586\n",
      "True\n"
     ]
    }
   ],
   "source": [
    "try:\n",
    "    GR_nodes = list(map(lambda string: string if string[-3:] == \"_GR\" else None, ls_nodes))\n",
    "except:\n",
    "    GR_nodes = []\n",
    "BE_nodes = list(map(lambda string: string if string[-3:] == \"_BE\" or string in [\"PCCC_CCGT\", \"PCCC\", \"CO2_EXPORT\", \"LIQUEFIED_METHANE_STORAGE_DESTINATION\",\"LIQUEFIED_METHANE_REGASIFICATION\"] else None, ls_nodes))\n",
    "\n",
    "try:\n",
    "    GR_nodes = list(filter(lambda x: x not in [None, \"PCCC\", \"PROD_CO2\", \"CO2_EXPORT\"], GR_nodes))\n",
    "except:\n",
    "    GR_nodes = []\n",
    "BE_nodes = list(filter(lambda x: x not in [None, \"PROD_CO2\"], BE_nodes))\n",
    "\n",
    "cost_GR = cost_rreh(GR_nodes)\n",
    "cost_BE = cost_rreh(BE_nodes)\n",
    "\n",
    "\n",
    "print(f\"GR {cost_GR = }\")\n",
    "print(f\"BE {cost_BE = }\")\n",
    "\n",
    "\n",
    "obj_cost = d.solution.objective\n",
    "tot_cost = np.sum([cost_GR, cost_BE])\n",
    "\n",
    "abs_diff = np.abs(d.solution.objective - np.sum([cost_GR, cost_BE]))\n",
    "print(f\"{obj_cost = }\")\n",
    "print(f\"{tot_cost = }\")\n",
    "print(abs_diff < 0.1)"
   ]
  },
  {
   "cell_type": "code",
   "execution_count": 32,
   "id": "a892bf68",
   "metadata": {},
   "outputs": [],
   "source": [
    "wind_onshore_gr = d.solution.elements.ON_WIND_PLANTS_GR.variables.capacity.values[0]\n",
    "wind_off_gr = d.solution.elements.OFF_WIND_PLANTS_GR.variables.capacity.values[0]\n",
    "\n",
    "total_installed_capacity = wind_onshore_gr + wind_off_gr"
   ]
  },
  {
   "cell_type": "code",
   "execution_count": 33,
   "id": "c579f5b7",
   "metadata": {},
   "outputs": [
    {
     "name": "stdout",
     "output_type": "stream",
     "text": [
      "Installed capacity of onshore = 0.0 MW\n",
      "Installed capacity of offshore = 63.72165113369946 MW\n",
      "Total installed capacity = 63.72165113369946 MW\n"
     ]
    },
    {
     "data": {
      "image/png": "[encoded data removed]",
      "text/plain": [
       "<Figure size 640x480 with 1 Axes>"
      ]
     },
     "metadata": {},
     "output_type": "display_data"
    }
   ],
   "source": [
    "# Print the installed capacities and total\n",
    "print(f\"Installed capacity of onshore = {wind_onshore_gr} MW\")\n",
    "print(f\"Installed capacity of offshore = {wind_off_gr} MW\")\n",
    "print(f\"Total installed capacity = {total_installed_capacity} MW\")\n",
    "\n",
    "# Plotting\n",
    "labels = ['Onshore', 'Offshore']\n",
    "values = [wind_onshore_gr, wind_off_gr]\n",
    "\n",
    "plt.bar(labels, values, color=['blue', 'orange'])\n",
    "plt.ylabel('Installed Capacity (MW)')\n",
    "plt.title('Installed Capacities')\n",
    "plt.show()"
   ]
  },
  {
   "cell_type": "code",
   "execution_count": 52,
   "id": "6aaf405a",
   "metadata": {},
   "outputs": [
    {
     "data": {
      "text/plain": [
       "Text(0.5, 1.0, 'Electricity produced')"
      ]
     },
     "execution_count": 52,
     "metadata": {},
     "output_type": "execute_result"
    },
    {
     "data": {
      "image/png": "[encoded data removed]",
      "text/plain": [
       "<Figure size 640x480 with 1 Axes>"
      ]
     },
     "metadata": {},
     "output_type": "display_data"
    }
   ],
   "source": [
    "wind_prod = d.solution.elements.OFF_WIND_PLANTS_GR.variables.electricity.values\n",
    "plt.plot(wind_prod)\n",
    "plt.ylabel(' metric (?)')\n",
    "plt.title('Electricity produced')"
   ]
  },
  {
   "cell_type": "code",
   "execution_count": 38,
   "id": "ae2c9e2b",
   "metadata": {},
   "outputs": [
    {
     "data": {
      "text/plain": [
       "array([0., 0., 0., ..., 0., 0., 0.])"
      ]
     },
     "execution_count": 38,
     "metadata": {},
     "output_type": "execute_result"
    }
   ],
   "source": [
    "elec_demand_pccc = np.array(d.solution.elements.PCCC.variables.e_consumed.values)\n",
    "elec_demand_pccc"
   ]
  },
  {
   "cell_type": "code",
   "execution_count": 48,
   "id": "76b93156",
   "metadata": {},
   "outputs": [
    {
     "data": {
      "text/plain": [
       "array([0., 0., 0., ..., 0., 0., 0.])"
      ]
     },
     "execution_count": 48,
     "metadata": {},
     "output_type": "execute_result"
    }
   ],
   "source": [
    "co2_export = np.array(d.solution.elements.CO2_EXPORT.variables.exported.values)\n",
    "co2_storage_be_in = np.array(d.solution.elements.CARBON_DIOXIDE_STORAGE_BE.variables.carbon_dioxide_in.values)\n",
    "co2_storage_be_out = np.array(d.solution.elements.CARBON_DIOXIDE_STORAGE_BE.variables.carbon_dioxide_out.values)"
   ]
  },
  {
   "cell_type": "code",
   "execution_count": 50,
   "id": "ba2ba047",
   "metadata": {},
   "outputs": [
    {
     "name": "stdout",
     "output_type": "stream",
     "text": [
      "[0. 0. 0. ... 0. 0. 0.]\n",
      "[0. 0. 0. ... 0. 0. 0.]\n",
      "[0. 0. 0. ... 0. 0. 0.]\n"
     ]
    }
   ],
   "source": [
    "print(co2_export)\n",
    "print(co2_storage_be_in)\n",
    "print(co2_storage_be_out)"
   ]
  },
  {
   "cell_type": "code",
   "execution_count": null,
   "id": "42c4f701",
   "metadata": {},
   "outputs": [],
   "source": []
  }
 ],
 "metadata": {
  "kernelspec": {
   "display_name": "Python 3 (ipykernel)",
   "language": "python",
   "name": "python3"
  },
  "language_info": {
   "codemirror_mode": {
    "name": "ipython",
    "version": 3
   },
   "file_extension": ".py",
   "mimetype": "text/x-python",
   "name": "python",
   "nbconvert_exporter": "python",
   "pygments_lexer": "ipython3",
   "version": "3.10.9"
  }
 },
 "nbformat": 4,
 "nbformat_minor": 5
}
