{
 "cells": [
  {
   "cell_type": "markdown",
   "id": "2438d987",
   "metadata": {},
   "source": [
    "# First Analysis\n",
    "## Only Offshore wind, no production in Belgium"
   ]
  },
  {
   "cell_type": "code",
   "execution_count": 1,
   "id": "6a0a6580",
   "metadata": {},
   "outputs": [
    {
     "name": "stdout",
     "output_type": "stream",
     "text": [
      "Check variables of node LIQUEFIED_METHANE_CARRIERS_GR : --- 0.0 seconds ---\n",
      "Check variables of node LIQUEFIED_METHANE_STORAGE_HUB_GR : --- 0.0 seconds ---\n",
      "Check variables of node METHANE_LIQUEFACTION_PLANTS_GR : --- 0.0 seconds ---\n",
      "Check variables of node METHANATION_PLANTS_GR : --- 0.0 seconds ---\n",
      "Check variables of node WATER_STORAGE_GR : --- 0.0 seconds ---\n",
      "Check variables of node CARBON_DIOXIDE_STORAGE_GR : --- 0.0 seconds ---\n",
      "Check variables of node HYDROGEN_STORAGE_GR : --- 0.0 seconds ---\n",
      "Check variables of node DIRECT_AIR_CAPTURE_PLANTS_GR : --- 0.0 seconds ---\n",
      "Check variables of node DESALINATION_PLANTS_GR : --- 0.0 seconds ---\n",
      "Check variables of node ELECTROLYSIS_PLANTS_GR : --- 0.0 seconds ---\n",
      "Check variables of node HVDC_GR : --- 0.0 seconds ---\n",
      "Check variables of node BATTERY_STORAGE_GR : --- 0.0 seconds ---\n",
      "Check variables of node OFF_WIND_PLANTS_GR : --- 0.0 seconds ---\n",
      "Check variables of node CO2_EXPORT : --- 0.0 seconds ---\n",
      "Check variables of node CARBON_DIOXIDE_STORAGE_BE : --- 0.0 seconds ---\n",
      "Check variables of node CARRIER_CO2_GR : --- 0.0 seconds ---\n",
      "Check variables of node PIPE_CO2_GR : --- 0.0 seconds ---\n",
      "Check variables of node PROD_CO2 : --- 0.0 seconds ---\n",
      "Check variables of node PCCC : --- 0.0 seconds ---\n",
      "Check variables of node ENERGY_DEMAND_BE : --- 0.0 seconds ---\n",
      "Check variables of node LIQUEFIED_METHANE_STORAGE_DESTINATION : --- 0.0 seconds ---\n",
      "Check variables of node LIQUEFIED_METHANE_REGASIFICATION : --- 0.0 seconds ---\n",
      "Check hyperlink COASTAL_CARBON_DIOXIDE_BALANCE_GR : --- 0.0 seconds ---\n",
      "Check hyperlink COASTAL_LIQUEFIED_METHANE_BALANCE_GR : --- 0.0 seconds ---\n",
      "Check hyperlink COASTAL_METHANE_BALANCE_GR : --- 0.0 seconds ---\n",
      "Check hyperlink COASTAL_WATER_BALANCE_GR : --- 0.0 seconds ---\n",
      "Check hyperlink COASTAL_HYDROGEN_BALANCE_GR : --- 0.0 seconds ---\n",
      "Check hyperlink COASTAL_POWER_BALANCE_GR : --- 0.0 seconds ---\n",
      "Check hyperlink INLAND_POWER_BALANCE_GR : --- 0.0 seconds ---\n",
      "Check hyperlink DESTINATION_LIQUEFIED_METHANE_BALANCE : --- 0.0 seconds ---\n",
      "Warning : Hyperedge constraint using variables from a single node at line 140\n",
      "Check hyperlink DESTINATION_METHANE_BALANCE : --- 0.0 seconds ---\n",
      "Check hyperlink APPLY_PCCC_PROD_C02 : --- 0.0 seconds ---\n",
      "Check hyperlink PIPE_CO2_CONNECTION : --- 0.0 seconds ---\n",
      "Set parameter Username\n",
      "Academic license - for non-commercial use only - expires 2024-12-03\n",
      "\n",
      "Reading Gurobi options from file gurobi.opt\n",
      "Options file not found\n",
      "\n",
      "Gurobi Optimizer version 10.0.3 build v10.0.3rc0 (win64)\n",
      "\n",
      "CPU model: AMD Ryzen 7 7735HS with Radeon Graphics, instruction set [SSE2|AVX|AVX2]\n",
      "Thread count: 8 physical cores, 16 logical processors, using up to 16 threads\n",
      "\n",
      "Optimize a model with 1375338 rows, 525626 columns and 2747517 nonzeros\n",
      "Model fingerprint: 0x710ab957\n",
      "Coefficient statistics:\n",
      "  Matrix range     [2e-05, 5e+01]\n",
      "  Objective range  [8e-05, 2e+03]\n",
      "  Bounds range     [0e+00, 0e+00]\n",
      "  RHS range        [4e+00, 1e+03]\n",
      "Presolve removed 1026381 rows and 323664 columns\n",
      "Presolve time: 1.96s\n",
      "Presolved: 348957 rows, 201962 columns, 1149766 nonzeros\n",
      "\n",
      "Concurrent LP optimizer: primal simplex, dual simplex, and barrier\n",
      "Showing barrier log only...\n",
      "\n",
      "Ordering time: 0.11s\n",
      "\n",
      "Barrier statistics:\n",
      " Dense cols : 22\n",
      " AA' NZ     : 1.442e+06\n",
      " Factor NZ  : 6.025e+06 (roughly 270 MB of memory)\n",
      " Factor Ops : 1.250e+08 (less than 1 second per iteration)\n",
      " Threads    : 6\n",
      "\n",
      "                  Objective                Residual\n",
      "Iter       Primal          Dual         Primal    Dual     Compl     Time\n",
      "   0   1.36728835e+07 -1.62812026e+06  1.81e+04 6.01e-02  1.89e+05     3s\n",
      "   1   1.65111187e+07 -5.96224342e+07  1.23e+04 8.10e+01  7.44e+04     3s\n",
      "   2   1.67894060e+07 -6.32034572e+07  1.07e+04 6.22e+01  3.80e+04     3s\n",
      "   3   1.14491142e+07 -5.54656697e+07  4.46e+03 7.28e+01  1.38e+04     3s\n",
      "   4   9.76306877e+06 -4.75339078e+07  2.58e+03 3.24e+01  7.32e+03     4s\n",
      "   5   8.72338195e+06 -4.38362343e+07  1.81e+03 1.76e+01  4.78e+03     4s\n",
      "   6   7.47008517e+06 -4.09009480e+07  1.14e+03 9.56e+00  2.91e+03     4s\n",
      "   7   5.76222060e+06 -3.70111078e+07  5.91e+02 4.73e+00  1.51e+03     4s\n",
      "   8   3.81269926e+06 -3.12818926e+07  2.60e+02 1.85e+00  6.65e+02     4s\n",
      "   9   2.14311437e+06 -2.30820463e+07  6.88e+01 8.11e-01  2.39e+02     4s\n",
      "  10   1.10812687e+06 -6.77569927e+06  1.19e-01 9.00e-02  2.66e+01     5s\n",
      "  11   9.48944787e+05 -2.59059500e+06  6.47e-02 3.66e-02  1.14e+01     5s\n",
      "  12   7.29220010e+05 -1.41113403e+06  2.90e-02 2.15e-02  6.64e+00     5s\n",
      "  13   3.31765511e+05 -5.07823802e+05  3.26e-03 6.95e-03  2.36e+00     5s\n",
      "  14   1.22866276e+05 -2.85342052e+04  5.08e-04 6.53e-04  3.69e-01     5s\n",
      "  15   7.39696051e+04  1.54618330e+04  2.16e-04 1.14e-04  1.33e-01     5s\n",
      "  16   5.94044464e+04  2.46694554e+04  1.29e-04 6.25e-05  7.83e-02     6s\n",
      "  17   5.17373795e+04  2.98585228e+04  7.99e-05 3.59e-05  4.92e-02     6s\n",
      "  18   4.89803553e+04  3.27042981e+04  6.35e-05 2.27e-05  3.64e-02     6s\n",
      "  19   4.49095989e+04  3.37133210e+04  3.97e-05 1.82e-05  2.51e-02     6s\n",
      "  20   4.27164896e+04  3.54434214e+04  2.67e-05 1.08e-05  1.63e-02     6s\n",
      "  21   4.17838750e+04  3.60545642e+04  2.11e-05 8.38e-06  1.28e-02     6s\n",
      "  22   4.08782630e+04  3.70923867e+04  1.56e-05 4.45e-06  8.45e-03     7s\n",
      "  23   4.01208746e+04  3.72339428e+04  1.10e-05 3.97e-06  6.46e-03     7s\n",
      "  24   3.96352880e+04  3.76828586e+04  7.89e-06 2.32e-06  4.36e-03     7s\n",
      "  25   3.92193616e+04  3.79166917e+04  5.28e-06 1.51e-06  2.91e-03     7s\n",
      "  26   3.90657887e+04  3.81171960e+04  4.29e-06 8.46e-07  2.11e-03     7s\n",
      "  27   3.88485346e+04  3.82246302e+04  2.94e-06 4.95e-07  1.39e-03     8s\n",
      "  28   3.87343712e+04  3.82564357e+04  2.22e-06 3.98e-07  1.06e-03     8s\n",
      "  29   3.86501151e+04  3.82773247e+04  1.66e-06 3.34e-07  8.29e-04     8s\n",
      "  30   3.85953954e+04  3.83136013e+04  1.31e-06 2.26e-07  6.26e-04     8s\n",
      "  31   3.85368798e+04  3.83455873e+04  9.33e-07 1.27e-07  4.24e-04     9s\n",
      "  32   3.84867995e+04  3.83617362e+04  6.02e-07 7.85e-08  2.77e-04     9s\n",
      "  33   3.84594715e+04  3.83783252e+04  4.28e-07 3.48e-08  1.79e-04     9s\n",
      "  34   3.84372932e+04  3.83847294e+04  2.83e-07 1.75e-08  1.16e-04    10s\n",
      "  35   3.84225863e+04  3.83871862e+04  1.87e-07 1.19e-08  7.79e-05    10s\n",
      "  36   3.84084939e+04  3.83875743e+04  9.67e-08 1.11e-08  4.60e-05    10s\n",
      "  37   3.84057900e+04  3.83908668e+04  7.94e-08 4.08e-09  3.27e-05    10s\n",
      "  38   3.84008842e+04  3.83921440e+04  4.79e-08 1.51e-09  1.91e-05    10s\n",
      "  39   3.83963180e+04  3.83928002e+04  1.74e-08 1.30e-09  7.68e-06    11s\n",
      "  40   3.83947743e+04  3.83930231e+04  8.13e-09 1.16e-09  3.83e-06    11s\n",
      "  41   3.83940192e+04  3.83932378e+04  3.50e-09 4.73e-10  1.72e-06    11s\n",
      "  42   3.83937431e+04  3.83932564e+04  1.94e-09 4.19e-10  1.07e-06    11s\n",
      "  43   3.83934687e+04  3.83932758e+04  3.53e-10 3.64e-10  4.23e-07    11s\n",
      "  44   3.83934284e+04  3.83933895e+04  1.33e-10 2.95e-11  8.56e-08    12s\n",
      "  45   3.83934106e+04  3.83934028e+04  2.88e-10 1.12e-11  1.72e-08    12s\n",
      "  46   3.83934048e+04  3.83934034e+04  5.93e-10 1.36e-12  3.13e-09    12s\n",
      "  47   3.83934037e+04  3.83934036e+04  1.73e-09 7.60e-12  3.54e-10    12s\n",
      "\n",
      "Barrier solved model in 47 iterations and 12.37 seconds (9.69 work units)\n",
      "Optimal objective 3.83934037e+04\n",
      "\n",
      "Crossover log...\n",
      "\n",
      "  115825 DPushes remaining with DInf 6.2580083e-03                13s\n",
      "   52865 DPushes remaining with DInf 6.2580083e-03                23s\n",
      "   50966 DPushes remaining with DInf 6.2580083e-03                25s\n",
      "   46897 DPushes remaining with DInf 6.2580083e-03                30s\n",
      "   42828 DPushes remaining with DInf 6.2580083e-03                35s\n",
      "   24706 DPushes remaining with DInf 6.2580083e-03                40s\n",
      "   21263 DPushes remaining with DInf 6.2580083e-03                45s\n",
      "   17480 DPushes remaining with DInf 6.2580083e-03                50s\n",
      "   11351 DPushes remaining with DInf 6.2580083e-03                55s\n",
      "    9505 DPushes remaining with DInf 6.2636155e-03                61s\n",
      "       0 DPushes remaining with DInf 6.2636289e-03                65s\n",
      "\n",
      "   29769 PPushes remaining with PInf 2.2036347e-05                65s\n",
      "   14241 PPushes remaining with PInf 5.0679165e-06                72s\n",
      "    5604 PPushes remaining with PInf 5.0678869e-06                75s\n",
      "       0 PPushes remaining with PInf 0.0000000e+00                77s\n"
     ]
    },
    {
     "name": "stdout",
     "output_type": "stream",
     "text": [
      "\n",
      "  Push phase complete: Pinf 0.0000000e+00, Dinf 1.4495693e+02     77s\n",
      "\n",
      "Iteration    Objective       Primal Inf.    Dual Inf.      Time\n",
      "  109897    3.8393404e+04   0.000000e+00   1.449569e+02     77s\n",
      "\n",
      "Solved with barrier\n",
      "  110453    3.8393404e+04   0.000000e+00   0.000000e+00     81s\n",
      "\n",
      "Solved in 110453 iterations and 81.08 seconds (219.95 work units)\n",
      "Optimal objective  3.839340364e+04\n",
      "Solved\n"
     ]
    }
   ],
   "source": [
    "from gboml import GbomlGraph\n",
    "\n",
    "timehorizon = 8760\n",
    "\n",
    "\n",
    "gboml_model = GbomlGraph(timehorizon=timehorizon)\n",
    "nodes, edges, param = gboml_model.import_all_nodes_and_edges(\"../../models/base/greenland_simple.gboml\")\n",
    "gboml_model.add_global_parameters(param)\n",
    "gboml_model.add_nodes_in_model(*nodes)\n",
    "gboml_model.add_hyperedges_in_model(*edges)\n",
    "gboml_model.build_model()\n",
    "solution, obj, status, solver_info, constr_info, _ = gboml_model.solve_gurobi()\n",
    "print(\"Solved\")"
   ]
  },
  {
   "cell_type": "code",
   "execution_count": 3,
   "id": "d09a801a",
   "metadata": {},
   "outputs": [
    {
     "name": "stdout",
     "output_type": "stream",
     "text": [
      "Json done\n"
     ]
    }
   ],
   "source": [
    "import json\n",
    "\n",
    "gathered_data = gboml_model.turn_solution_to_dictionary(solver_info, status, solution, obj, constr_info)\n",
    "print(\"Json done\")\n",
    "with open(f'../../models/base/results/RREH.json', \"w\") as fp:json.dump(gathered_data, fp, indent=4)"
   ]
  },
  {
   "cell_type": "code",
   "execution_count": 4,
   "id": "422b0d50",
   "metadata": {},
   "outputs": [],
   "source": [
    "import json\n",
    "import pandas as pd\n",
    "import matplotlib.pyplot as plt\n",
    "import numpy as np"
   ]
  },
  {
   "cell_type": "code",
   "execution_count": 6,
   "id": "23df8b9b",
   "metadata": {},
   "outputs": [
    {
     "name": "stdout",
     "output_type": "stream",
     "text": [
      "The data is a dictionary\n"
     ]
    }
   ],
   "source": [
    "with open('../../models/base/results/RREH.json', 'r') as f:\n",
    "    results_data = json.load(f)\n",
    "    \n",
    "if isinstance(results_data, dict):\n",
    "    print('The data is a dictionary')\n",
    "else:\n",
    "    print('The data is not a dictionary')"
   ]
  },
  {
   "cell_type": "code",
   "execution_count": 7,
   "id": "b3fb8684",
   "metadata": {},
   "outputs": [],
   "source": [
    "class MakeMeReadable:\n",
    "    def __init__(self, d):\n",
    "        self.d = d\n",
    "    \n",
    "    def __dir__(self):\n",
    "        return self.d.keys()\n",
    "    \n",
    "    def __getattr__(self, v):\n",
    "        try:\n",
    "            out = self.d[v]\n",
    "            if isinstance(out, dict):\n",
    "                return MakeMeReadable(out)\n",
    "            return out\n",
    "        except:\n",
    "            return getattr(self.d, v)\n",
    "        \n",
    "    def __str__(self):\n",
    "        return str(self.d)\n",
    "    \n",
    "    def __repr__(self):\n",
    "        return repr(self.d)"
   ]
  },
  {
   "cell_type": "code",
   "execution_count": 8,
   "id": "6f5d0a78",
   "metadata": {},
   "outputs": [],
   "source": [
    "results_data = MakeMeReadable(results_data)"
   ]
  },
  {
   "cell_type": "code",
   "execution_count": 9,
   "id": "01bd697d",
   "metadata": {},
   "outputs": [
    {
     "data": {
      "text/plain": [
       "[63.63136793733925]"
      ]
     },
     "execution_count": 9,
     "metadata": {},
     "output_type": "execute_result"
    }
   ],
   "source": [
    "wind_capacity = results_data.solution.elements.OFF_WIND_PLANTS_GR.variables.capacity.values\n",
    "wind_prod = results_data.solution.elements.OFF_WIND_PLANTS_GR.variables.electricity.values\n",
    "wind_capacity"
   ]
  },
  {
   "cell_type": "code",
   "execution_count": 10,
   "id": "566f65b4",
   "metadata": {},
   "outputs": [
    {
     "data": {
      "text/plain": [
       "34.658763293003474"
      ]
     },
     "execution_count": 10,
     "metadata": {},
     "output_type": "execute_result"
    }
   ],
   "source": [
    "np.mean(wind_prod)"
   ]
  },
  {
   "cell_type": "code",
   "execution_count": 11,
   "id": "357cf437",
   "metadata": {},
   "outputs": [
    {
     "ename": "SyntaxError",
     "evalue": "invalid syntax (575232540.py, line 1)",
     "output_type": "error",
     "traceback": [
      "\u001b[1;36m  Cell \u001b[1;32mIn[11], line 1\u001b[1;36m\u001b[0m\n\u001b[1;33m    cost = results_data.solution.elements.\u001b[0m\n\u001b[1;37m                                          ^\u001b[0m\n\u001b[1;31mSyntaxError\u001b[0m\u001b[1;31m:\u001b[0m invalid syntax\n"
     ]
    }
   ],
   "source": [
    "cost = results_data.solution.elements."
   ]
  },
  {
   "cell_type": "code",
   "execution_count": null,
   "id": "38c61d6b",
   "metadata": {},
   "outputs": [],
   "source": []
  }
 ],
 "metadata": {
  "kernelspec": {
   "display_name": "Python 3 (ipykernel)",
   "language": "python",
   "name": "python3"
  },
  "language_info": {
   "codemirror_mode": {
    "name": "ipython",
    "version": 3
   },
   "file_extension": ".py",
   "mimetype": "text/x-python",
   "name": "python",
   "nbconvert_exporter": "python",
   "pygments_lexer": "ipython3",
   "version": "3.10.9"
  }
 },
 "nbformat": 4,
 "nbformat_minor": 5
}
